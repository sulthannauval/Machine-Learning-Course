{
  "nbformat": 4,
  "nbformat_minor": 0,
  "metadata": {
    "colab": {
      "provenance": [],
      "mount_file_id": "10v7cL34lyGXW0xoIWyAKZ8ypR2x-H-jt",
      "authorship_tag": "ABX9TyNs4+QmN7FZi5oCCUTiybhA",
      "include_colab_link": true
    },
    "kernelspec": {
      "name": "python3",
      "display_name": "Python 3"
    },
    "language_info": {
      "name": "python"
    }
  },
  "cells": [
    {
      "cell_type": "markdown",
      "metadata": {
        "id": "view-in-github",
        "colab_type": "text"
      },
      "source": [
        "<a href=\"https://colab.research.google.com/github/sulthannauval/MachineLearning-Course/blob/main/Tugas-Minggu-2/2_Polynomial_Regression_Sulthan_1103213065.ipynb\" target=\"_parent\"><img src=\"https://colab.research.google.com/assets/colab-badge.svg\" alt=\"Open In Colab\"/></a>"
      ]
    },
    {
      "cell_type": "markdown",
      "source": [
        "---\n",
        "\n",
        "Lecture 2 - Polynomial Regression - Salary_Data_Simple_SVR.csv\n",
        "\n",
        "---\n",
        "\n",
        "*   Nama : Sulthan Nauval Abdillah\n",
        "*   NIM : 1103213065\n",
        "*   ChatGPT : [link text](https://chat.openai.com/share/fe1b5a60-b66e-4518-86d1-f48e087533a5)"
      ],
      "metadata": {
        "id": "WoLeadImVj1x"
      }
    },
    {
      "cell_type": "markdown",
      "source": [
        "## Prompt ChatGPT : Ingin membuat model polynomial regression dengan dataset Salary_Data_Simple_SVR.csv bagaimana tahapannya?\n",
        "\n"
      ],
      "metadata": {
        "id": "O5S-UzD4W29r"
      }
    },
    {
      "cell_type": "code",
      "execution_count": 28,
      "metadata": {
        "id": "oTuzrh0sVZQr"
      },
      "outputs": [],
      "source": [
        "import pandas as pd\n",
        "import numpy as np\n",
        "from sklearn.model_selection import train_test_split\n",
        "from sklearn.preprocessing import PolynomialFeatures\n",
        "from sklearn.linear_model import LinearRegression\n",
        "from sklearn.metrics import mean_squared_error, mean_absolute_error, r2_score\n",
        "import matplotlib.pyplot as plt"
      ]
    },
    {
      "cell_type": "markdown",
      "source": [
        "### Memuat Dataset"
      ],
      "metadata": {
        "id": "BHYJAB5iXLeT"
      }
    },
    {
      "cell_type": "code",
      "source": [
        "dataset = pd.read_csv(\"/content/drive/MyDrive/Datasets/Salary_Data_Simple_SVR.csv\")"
      ],
      "metadata": {
        "id": "1BnJNKvDWjhL"
      },
      "execution_count": 29,
      "outputs": []
    },
    {
      "cell_type": "markdown",
      "source": [
        "### Pemrosesan Data\n"
      ],
      "metadata": {
        "id": "MJ0-kLB7XWUa"
      }
    },
    {
      "cell_type": "code",
      "source": [
        "X = dataset.iloc[:, :-1].values\n",
        "y = dataset.iloc[:, 1].values\n",
        "\n",
        "# Pisahkan data menjadi data latih dan data uji (opsional)\n",
        "X_train, X_test, y_train, y_test = train_test_split(X, y, test_size=0.2, random_state=42)"
      ],
      "metadata": {
        "id": "U5xofWrMffFH"
      },
      "execution_count": 30,
      "outputs": []
    },
    {
      "cell_type": "markdown",
      "source": [
        "### Membangun Model"
      ],
      "metadata": {
        "id": "Lwi95DeTflKr"
      }
    },
    {
      "cell_type": "code",
      "source": [
        "poly_features = PolynomialFeatures(degree=2)  # Sesuaikan derajat polinomial sesuai kebutuhan\n",
        "X_train_poly = poly_features.fit_transform(X_train)\n",
        "X_test_poly = poly_features.transform(X_test)\n",
        "\n",
        "model = LinearRegression()\n",
        "model.fit(X_train_poly, y_train)\n",
        "\n",
        "# Prediksi pada data uji\n",
        "y_pred = model.predict(X_test_poly)"
      ],
      "metadata": {
        "id": "v13BfOv5fm45"
      },
      "execution_count": 31,
      "outputs": []
    },
    {
      "cell_type": "markdown",
      "source": [
        "### Evaluasi Model"
      ],
      "metadata": {
        "id": "Z3f8b5tvf9cz"
      }
    },
    {
      "cell_type": "code",
      "source": [
        "# Evaluasi model\n",
        "rmse = np.sqrt(mean_squared_error(y_test, y_pred))\n",
        "mae = mean_absolute_error(y_test, y_pred)\n",
        "mape = np.mean(np.abs((y_test - y_pred) / y_test)) * 100\n",
        "r2 = r2_score(y_test, y_pred)\n",
        "\n",
        "print(\"Root Mean Squared Error (RMSE):\", rmse)\n",
        "print(\"Mean Absolute Error (MAE):\", mae)\n",
        "print(\"Mean Absolute Percentage Error (MAPE):\", mape)\n",
        "print(\"Coefficient of Determination (R^2):\", r2)"
      ],
      "metadata": {
        "colab": {
          "base_uri": "https://localhost:8080/"
        },
        "id": "4slpX_I8f_cb",
        "outputId": "4377cbb7-3601-4344-91f5-0c29398ea4bc"
      },
      "execution_count": 32,
      "outputs": [
        {
          "output_type": "stream",
          "name": "stdout",
          "text": [
            "Root Mean Squared Error (RMSE): 7247.614529538321\n",
            "Mean Absolute Error (MAE): 6381.371429702192\n",
            "Mean Absolute Percentage Error (MAPE): 7.770335974412225\n",
            "Coefficient of Determination (R^2): 0.897164578089087\n"
          ]
        }
      ]
    },
    {
      "cell_type": "markdown",
      "source": [
        "## Prompt ChatGPT : Bagaimana cara memvisualisasikan data train, data test, dengan garis regresi dari model polynomial tersebut? bagaimana jika ingin bentuk garisnya polinomial?"
      ],
      "metadata": {
        "id": "w5bWWw7DhOfK"
      }
    },
    {
      "cell_type": "code",
      "source": [
        "# Menyiapkan titik-titik pada sumbu x untuk plot garis polinomial\n",
        "X_range = np.linspace(np.min(X), np.max(X), 100).reshape(-1, 1)\n",
        "X_range_poly = poly_features.transform(X_range)\n",
        "\n",
        "# Prediksi nilai untuk setiap titik pada sumbu x\n",
        "y_range_pred = model.predict(X_range_poly)\n",
        "\n",
        "# Visualisasi data latih, data uji, dan garis regresi polinomial\n",
        "plt.scatter(X_train, y_train, color='blue', label='Training Data')\n",
        "plt.scatter(X_test, y_test, color='green', label='Test Data')\n",
        "plt.plot(X_range, y_range_pred, color='red', label='Polynomial Regression')\n",
        "plt.xlabel('Years of Experience')\n",
        "plt.ylabel('Salary')\n",
        "plt.title('Polynomial Regression')\n",
        "plt.legend()\n",
        "plt.show()"
      ],
      "metadata": {
        "colab": {
          "base_uri": "https://localhost:8080/",
          "height": 472
        },
        "id": "-j8PMhhjhUiD",
        "outputId": "d9af9393-5722-41cd-bb0e-72bbe06c03ef"
      },
      "execution_count": 34,
      "outputs": [
        {
          "output_type": "display_data",
          "data": {
            "text/plain": [
              "<Figure size 640x480 with 1 Axes>"
            ],
            "image/png": "[encoded data removed]"
          },
          "metadata": {}
        }
      ]
    },
    {
      "cell_type": "markdown",
      "source": [
        "## Prompt ChatGPT : Bagaimana cara mengetahui berapa nilai actual dari data test, dengan nilai prediksi dari model? juga tampilkan kolom YearsExperience"
      ],
      "metadata": {
        "id": "94Da8sQpzTWQ"
      }
    },
    {
      "cell_type": "code",
      "source": [
        "# Prediksi nilai untuk data uji\n",
        "y_pred = model.predict(X_test_poly)\n",
        "\n",
        "# Tambahkan kolom YearsExperience ke data uji\n",
        "X_test_with_years = np.concatenate((X_test, y_test.reshape(-1, 1)), axis=1)\n",
        "\n",
        "# Tambahkan kolom prediksi ke data uji\n",
        "X_test_with_pred = np.concatenate((X_test_with_years, y_pred.reshape(-1, 1)), axis=1)\n",
        "\n",
        "# Konversi array numpy ke dataframe pandas\n",
        "df_test_with_pred = pd.DataFrame(X_test_with_pred, columns=['YearsExperience', 'ActualSalary', 'PredictedSalary'])\n",
        "\n",
        "# Tampilkan data uji beserta nilai prediksi dan aktual\n",
        "print(df_test_with_pred)"
      ],
      "metadata": {
        "colab": {
          "base_uri": "https://localhost:8080/"
        },
        "id": "8uWg9YSJzOY1",
        "outputId": "c4ad156a-a4bd-4591-d3e3-e344bb23bab8"
      },
      "execution_count": 35,
      "outputs": [
        {
          "output_type": "stream",
          "name": "stdout",
          "text": [
            "   YearsExperience  ActualSalary  PredictedSalary\n",
            "0              9.6      112635.0    116296.154089\n",
            "1              4.9       67938.0     70861.405662\n",
            "2              8.2      113812.0    102389.930923\n",
            "3              5.3       83088.0     74589.524904\n",
            "4              3.2       64445.0     55304.715307\n",
            "5              3.7       57189.0     59831.839961\n"
          ]
        }
      ]
    },
    {
      "cell_type": "markdown",
      "source": [
        "## Bagaimana cara menginputkan data baru dan meminta supaya model memberikan prediksi dari data yang kita masukkan?"
      ],
      "metadata": {
        "id": "V_K6RwNGzZIW"
      }
    },
    {
      "cell_type": "code",
      "source": [
        "def predict_new_data(model, poly_features, new_data):\n",
        "    # Preproses data baru (jika diperlukan)\n",
        "    new_data_poly = poly_features.transform(new_data)\n",
        "    # Lakukan prediksi\n",
        "    prediction = model.predict(new_data_poly)\n",
        "    return prediction\n",
        "\n",
        "# Contoh data baru yang ingin diprediksi\n",
        "new_data = np.array([[10]])  # Misalnya, data baru memiliki 1 fitur (YearsExperience) dan nilai 10\n",
        "\n",
        "# Lakukan prediksi\n",
        "predicted_salary = predict_new_data(model, poly_features, new_data)\n",
        "\n",
        "print(\"Predicted salary for new data:\", predicted_salary)"
      ],
      "metadata": {
        "colab": {
          "base_uri": "https://localhost:8080/"
        },
        "id": "zhtk-B5SzZi8",
        "outputId": "8b8eb924-6c28-4c24-d1b4-67d04f5648e3"
      },
      "execution_count": 36,
      "outputs": [
        {
          "output_type": "stream",
          "name": "stdout",
          "text": [
            "Predicted salary for new data: [120327.40771797]\n"
          ]
        }
      ]
    }
  ]
}